{
 "cells": [
  {
   "cell_type": "markdown",
   "metadata": {},
   "source": [
    "# Rules of survival\n",
    "\n",
    "### Mini-project\n",
    "\n",
    "In this small project you will use the PRISM Rule Learner algorithm to learn some rules about COVID-19 comorbidity factors. Write as much about your findings as possible. You may add external information/additional datasets for an extra-credit."
   ]
  },
  {
   "cell_type": "markdown",
   "metadata": {},
   "source": [
    "## 1. Algorithm\n",
    "\n",
    "Copy your implementation of the correct and tested algorithm in the cell below. You do not need to supply any comments or explanations. "
   ]
  },
  {
   "cell_type": "code",
   "execution_count": 1,
   "metadata": {},
   "outputs": [],
   "source": [
    "import pandas as pd\n",
    "import numpy as np\n",
    "\n",
    "class Rule:\n",
    "    def __init__(self, class_label):\n",
    "        self.conditions = []  # list of conditions\n",
    "        self.class_label = class_label  # rule class\n",
    "        self.accuracy = 0\n",
    "        self.coverage = 0\n",
    "\n",
    "    def addCondition(self, condition):\n",
    "        self.conditions.append(condition)\n",
    "\n",
    "    def setParams(self, accuracy, coverage):\n",
    "        self.accuracy = accuracy\n",
    "        self.coverage = coverage\n",
    "    \n",
    "    # Human-readable printing of this Rule\n",
    "    def __repr__(self):\n",
    "        return \"If {} then {}. Coverage:{}, accuracy: {}\".format(self.conditions, self.class_label,\n",
    "                                                                 self.coverage, self.accuracy)\n",
    "\n",
    "class Condition:\n",
    "    def __init__(self, attribute, value, true_false = None):\n",
    "        self.attribute = attribute\n",
    "        self.value = value\n",
    "        self.true_false = true_false\n",
    "\n",
    "    def __repr__(self):\n",
    "        if self.true_false is None:\n",
    "            return \"{}={}\".format(self.attribute, self.value)\n",
    "        else:\n",
    "            return \"{}>={}:{}\".format(self.attribute, self.value, self.true_false)\n",
    "\n",
    "        \n",
    "def refine_rule(columns, covered_subset, class_label, min_coverage=30, min_accuracy=0.6, current_rule = None, colTypes = None):\n",
    "    \n",
    "    # If we're refining from None, create an empty Rule\n",
    "    if (current_rule == None):\n",
    "        current_rule = Rule(class_label)\n",
    "        \n",
    "\n",
    "    # Some helpful variables for tracking \n",
    "    bestAcc = 0\n",
    "    bestCov = 0\n",
    "    bestCondition = None\n",
    "    curAcc = 0\n",
    "    curCov = 0 \n",
    "\n",
    "    # We start by testing all possible columns/traits until we find the best one:\n",
    "    for trait in columns:\n",
    "        if trait == columns[-1]:\n",
    "            continue\n",
    "    \n",
    "        # If the trait is numeric\n",
    "        if colTypes[trait].loc['type'] == \"numeric\":\n",
    "            # We'll split by less than and ge. \n",
    "            \n",
    "            # Less than:\n",
    "            \n",
    "            for level in covered_subset[trait].unique().tolist():\n",
    "                ruleSubset = covered_subset[covered_subset[trait] < level] # Split by less than\n",
    "                \n",
    "                # Make sure we don't divide by 0!\n",
    "                if (len(ruleSubset) > 0):\n",
    "                    curAcc = len(ruleSubset[ruleSubset[columns[-1]] == class_label]) / len(ruleSubset)\n",
    "                    curCov = len(ruleSubset[ruleSubset[columns[-1]] == class_label])\n",
    "                    # Evaluate effectiveness of the rule\n",
    "                    if (curCov >= min_coverage):\n",
    "                        if (curAcc > bestAcc):\n",
    "                            bestAcc = curAcc\n",
    "                            bestCov = curCov\n",
    "                            bestCondition = Condition(trait, level, False)\n",
    "                        if (curAcc == bestAcc):\n",
    "                            if (curCov > bestCov):\n",
    "                                bestCov = curCov\n",
    "                                bestCondition = Condition(trait, level, False)\n",
    "                \n",
    "                # Now check the >= case:\n",
    "                ruleSubset = covered_subset[covered_subset[trait] >= level] # Split by ge\n",
    "                if (len(ruleSubset) > 0):\n",
    "                    curAcc = len(ruleSubset[ruleSubset[columns[-1]] == class_label]) / len(ruleSubset)\n",
    "                    curCov = len(ruleSubset[ruleSubset[columns[-1]] == class_label])\n",
    "                    # Evaluate goodness of the rule\n",
    "                    if (curCov >= min_coverage):\n",
    "                        if (curAcc > bestAcc):\n",
    "                            bestAcc = curAcc\n",
    "                            bestCov = curCov\n",
    "                            bestCondition = Condition(trait, level, True)\n",
    "                        if (curAcc == bestAcc):\n",
    "                            if (curCov > bestCov):\n",
    "                                bestCov = curCov\n",
    "                                bestCondition = Condition(trait, level, True)\n",
    "                            \n",
    "            continue # Go to the next loop\n",
    "        \n",
    "         \n",
    "        # If our trait is categorical:\n",
    "        for typeTrait in covered_subset[trait].unique().tolist():\n",
    "            ruleSubset = covered_subset[covered_subset[trait] == typeTrait]\n",
    "            \n",
    "            # Now test for accuracy and coverage of the rule:\n",
    "            curAcc = len(ruleSubset[ruleSubset[columns[-1]] == class_label]) / len(ruleSubset)\n",
    "            curCov = len(ruleSubset[ruleSubset[columns[-1]] == class_label])\n",
    "            if (curCov >= min_coverage):\n",
    "                if (curAcc > bestAcc):\n",
    "                    bestAcc = curAcc\n",
    "                    bestCov = curCov\n",
    "                    bestCondition = Condition(trait, typeTrait)\n",
    "\n",
    "                # If we have another rule with the same accuracy, \n",
    "                # choose the one with the better coverage\n",
    "                if (curAcc == bestAcc):\n",
    "                    if curCov > bestCov:\n",
    "                        bestCov = curCov\n",
    "                        bestCondition = Condition(trait, typeTrait)\n",
    "\n",
    "    # If refining does not improve our accuracy, we break\n",
    "    if (bestAcc == current_rule.accuracy):\n",
    "        return(None, None)\n",
    "    \n",
    "    # If we have no rule, break\n",
    "    if (bestCondition == None):\n",
    "        return(None, None)\n",
    "    \n",
    "    # Otherwise, add the rule to the list and\n",
    "    # shorten the subset\n",
    "    current_rule.addCondition(bestCondition)\n",
    "    current_rule.setParams(bestAcc, bestCov)\n",
    "    \n",
    "    # Numeric makes things a little stranger\n",
    "    if colTypes[bestCondition.attribute].loc['type'] == \"numeric\":\n",
    "        if bestCondition.true_false:\n",
    "            covered_subset = covered_subset[covered_subset[bestCondition.attribute] >= bestCondition.value]\n",
    "        else:\n",
    "            covered_subset = covered_subset[covered_subset[bestCondition.attribute] < bestCondition.value]\n",
    "    else:\n",
    "        covered_subset = covered_subset[covered_subset[bestCondition.attribute] == bestCondition.value]\n",
    "    return (current_rule, covered_subset)\n",
    "                            \n",
    "    \n",
    "    \n",
    "\n",
    "# Ok, now we can learn_one_rule!\n",
    "\n",
    "def learn_one_rule(columns, data, class_label, min_coverage=30, min_accuracy=0.6, colType = None):\n",
    "    # Make a copy of columns so we can delete from it. \n",
    "    # Otherwise we'd be destorying columns\n",
    "    columnsCopy = columns.copy().tolist()\n",
    "    \n",
    "    # Refine once from None, this will create the best first rule we want\n",
    "    current_rule, covered_subset = refine_rule(columnsCopy, data.copy(), class_label, min_coverage, min_accuracy, None, colType)\n",
    "    \n",
    "    # If we got None out, it means there is no rule that meets min_coverage\n",
    "    if (current_rule == None):\n",
    "        return (None, None)\n",
    "    \n",
    "    # Remove the trait from the list of eligbile traits\n",
    "    columnsCopy.remove(current_rule.conditions[-1].attribute)\n",
    "    \n",
    "    # We will refine while our rule isn't perfect and there are \n",
    "    # traits left to add\n",
    "    while current_rule.accuracy < 1 and len(columnsCopy) > 1:\n",
    "        temp_rule, temp_subset = refine_rule(columnsCopy, covered_subset,\n",
    "                                             class_label, min_coverage, min_accuracy, current_rule, colType)\n",
    "        # Just remove the trait we just used\n",
    "        if (temp_rule != None):\n",
    "            current_rule = temp_rule\n",
    "            covered_subset = temp_subset\n",
    "            columnsCopy.remove(current_rule.conditions[-1].attribute)\n",
    "        else:\n",
    "            break\n",
    "\n",
    "\n",
    "    if current_rule.accuracy < min_accuracy:\n",
    "        return (None, None)\n",
    "    \n",
    "    return (current_rule, covered_subset)\n",
    "    \n",
    "    # We can pre-process to determine if something is a numeric trait. \n",
    "    # We'll use two rules here:\n",
    "    # 1. If the Trait is all numeric\n",
    "    # 2. If there are a certain number of unique oberservations\n",
    "    #    in the dataset, say more than 10. \n",
    "    # \n",
    "    # Returns a Pandas Dataframe with the columns of `columns`\n",
    "    # and a row of \"type\" with the proper type of the variable\n",
    "def learn_categories(columns, data, min_threshold = 10):\n",
    "    types = []\n",
    "    cols = data.columns\n",
    "    for column in cols:\n",
    "        if data[column].dtype == 'int64' and len(data[column].unique()) >= min_threshold:\n",
    "            types.append(\"numeric\")\n",
    "        else:\n",
    "            types.append(\"categorical\")\n",
    "\n",
    "    colType = pd.DataFrame(columns = cols)\n",
    "\n",
    "    colType.loc['type'] = types\n",
    "    return colType\n",
    "    \n",
    "    \n",
    "def learn_rules (columns, data, classes=None, \n",
    "    min_coverage = 30, min_accuracy = 0.6):\n",
    "    # List of final rules\n",
    "    rules = []\n",
    "    \n",
    "    # If list of classes of interest is not provided - it is extracted from the last column of data\n",
    "    if classes is not None:\n",
    "        class_labels = classes\n",
    "    else:\n",
    "        class_labels = data[columns[-1]].unique().tolist()\n",
    "\n",
    "    current_data = data.copy()\n",
    "\n",
    "    # Get the Column types (categorical vs. numeric)\n",
    "    colType = learn_categories(columns, data)\n",
    "\n",
    "    \n",
    "    \n",
    "    # This follows the logic of the original PRISM algorithm\n",
    "    # It processes each class in turn. \n",
    "    for class_label in class_labels:\n",
    "        done = False\n",
    "        while len(current_data) > min_coverage and not done:\n",
    "            # Learn one rule \n",
    "            rule, subset = learn_one_rule(columns, current_data, class_label, min_coverage, min_accuracy, colType)\n",
    "            \n",
    "            # If the best rule does not pass the coverage threshold - we are done with this class\n",
    "            if rule is None:\n",
    "                break\n",
    "\n",
    "            # If we get the rule with accuracy and coverage above threshold\n",
    "            \n",
    "            if rule.accuracy >= min_accuracy:\n",
    "                rules.append(rule)\n",
    "\n",
    "                # We're going to say that `subset` is the rows that need to be removed. \n",
    "                # We can drop by matching up the indices\n",
    "                current_data = current_data.drop(index=subset.index)\n",
    "                   \n",
    "            else:\n",
    "                done = True         \n",
    "                \n",
    "    return rules"
   ]
  },
  {
   "cell_type": "markdown",
   "metadata": {},
   "source": [
    "## 2. Titanic dataset: the rules of survival"
   ]
  },
  {
   "cell_type": "markdown",
   "metadata": {},
   "source": [
    "Our very familiar Titanic [dataset](https://docs.google.com/spreadsheets/d/1QGNxqRU02eAvTGih1t0cErB5R05mdOdUBgJZACGcuvs/edit?usp=sharing)."
   ]
  },
  {
   "cell_type": "code",
   "execution_count": 4,
   "metadata": {},
   "outputs": [],
   "source": [
    "data_file = \"../datasets/titanic.csv\""
   ]
  },
  {
   "cell_type": "code",
   "execution_count": 5,
   "metadata": {},
   "outputs": [
    {
     "name": "stdout",
     "output_type": "stream",
     "text": [
      "Total rows 714\n",
      "Columns: ['Pclass' 'Sex' 'Age' 'Survived']\n"
     ]
    }
   ],
   "source": [
    "data = pd.read_csv(data_file)\n",
    "\n",
    "# take a subset of attributes\n",
    "data = data[['Pclass', 'Sex', 'Age', 'Survived']]\n",
    "\n",
    "# drop all columns and rows with missing values\n",
    "data = data.dropna(how=\"any\")\n",
    "print(\"Total rows\", len(data))\n",
    "\n",
    "column_list = data.columns.to_numpy()\n",
    "print(\"Columns:\", column_list)"
   ]
  },
  {
   "cell_type": "code",
   "execution_count": 6,
   "metadata": {},
   "outputs": [
    {
     "name": "stdout",
     "output_type": "stream",
     "text": [
      "If [Sex=female, Pclass=1] then 1. Coverage:82, accuracy: 0.9647058823529412\n",
      "If [Sex=female, Pclass=2] then 1. Coverage:68, accuracy: 0.918918918918919\n",
      "If [Pclass=2] then 0. Coverage:84, accuracy: 0.8484848484848485\n",
      "If [Sex=male, Pclass=3] then 0. Coverage:215, accuracy: 0.849802371541502\n"
     ]
    }
   ],
   "source": [
    "# we can set different accuracy thresholds\n",
    "# here we can reorder class labels - to first learn the rules with class label \"survived\".\n",
    "rules = learn_rules(column_list, data, [1,0], 30, 0.7)\n",
    "for rule in rules[:10]:\n",
    "    print(rule)"
   ]
  },
  {
   "cell_type": "markdown",
   "metadata": {},
   "source": [
    "## 3. Coronavirus: symptoms and outcome"
   ]
  },
  {
   "cell_type": "markdown",
   "metadata": {},
   "source": [
    "Coronavirus [dataset](https://drive.google.com/file/d/1uVd09ekR1ArLrA8qN-Xtu4l-FFbmetVy/view?usp=sharing) (preprocessed as outlined [here](rules_motivation.ipynb))."
   ]
  },
  {
   "cell_type": "code",
   "execution_count": 7,
   "metadata": {},
   "outputs": [],
   "source": [
    "data_file = \"../datasets/covid_categorical_good.csv\""
   ]
  },
  {
   "cell_type": "code",
   "execution_count": 36,
   "metadata": {},
   "outputs": [
    {
     "data": {
      "text/plain": [
       "219179"
      ]
     },
     "execution_count": 36,
     "metadata": {},
     "output_type": "execute_result"
    }
   ],
   "source": [
    "data = pd.read_csv(data_file)\n",
    "data = data.dropna(how=\"any\")\n",
    "len(data)"
   ]
  },
  {
   "cell_type": "markdown",
   "metadata": {},
   "source": [
    "Most accurate rules will have class label \"alive\". There could be too many rules, and we might never get to the class label \"dead\" if we rank them by accuracy. \n",
    "\n",
    "If we want to see which combination of attributes leads to \"dead\", we might want to run the algorithm with only this class label and set the lower accuracy threshold.\n",
    "\n",
    "Remove the _age_ attribute and run your algorithm with parameters shown below."
   ]
  },
  {
   "cell_type": "code",
   "execution_count": 10,
   "metadata": {},
   "outputs": [
    {
     "name": "stdout",
     "output_type": "stream",
     "text": [
      "If [renal_chronic=yes, diabetes=yes, cardiovascular=yes, obesity=no, sex=male, imm_supr=no, hypertension=yes, asthma=no, tobacco=no, copd=no] then dead. Coverage:36, accuracy: 0.6206896551724138\n",
      "If [renal_chronic=yes, diabetes=yes, obesity=no, copd=yes, asthma=no, hypertension=yes, imm_supr=no, tobacco=no] then dead. Coverage:32, accuracy: 0.6274509803921569\n"
     ]
    }
   ],
   "source": [
    "# We really want to learn first what makes covid deadly\n",
    "class_labels = [\"dead\"]\n",
    "data_categorical = data.drop(columns = ['age'])\n",
    "column_list = data_categorical.columns\n",
    "rules = learn_rules(column_list, data_categorical, class_labels, 30, 0.6)\n",
    "\n",
    "for rule in rules[:20]:\n",
    "    print(rule)\n",
    "\n"
   ]
  },
  {
   "cell_type": "markdown",
   "metadata": {},
   "source": [
    "Now try on both classes and for the entire dataset including _age_. Collect top 20 most accurate rules."
   ]
  },
  {
   "cell_type": "code",
   "execution_count": 11,
   "metadata": {},
   "outputs": [
    {
     "name": "stdout",
     "output_type": "stream",
     "text": [
      "If [age>=26:False, tobacco=yes, asthma=yes] then alive. Coverage:47, accuracy: 1.0\n",
      "If [age>=26:False, tobacco=yes, sex=female, obesity=yes] then alive. Coverage:83, accuracy: 1.0\n",
      "If [age>=26:False, tobacco=yes, obesity=no, hypertension=no, sex=female] then alive. Coverage:273, accuracy: 0.9963503649635036\n",
      "If [age>=26:False, hypertension=no, tobacco=yes, obesity=no, renal_chronic=no, imm_supr=no] then alive. Coverage:681, accuracy: 0.9970717423133236\n",
      "If [age>=29:False, hypertension=no, sex=female, tobacco=yes, imm_supr=no] then alive. Coverage:331, accuracy: 1.0\n",
      "If [age>=26:False, asthma=yes, obesity=no, sex=female] then alive. Coverage:246, accuracy: 1.0\n",
      "If [age>=26:False, hypertension=no, sex=female, imm_supr=no, obesity=no, diabetes=no, renal_chronic=no, cardiovascular=no] then alive. Coverage:7734, accuracy: 0.9949826321883443\n",
      "If [age>=30:False, hypertension=no, obesity=no, sex=female, imm_supr=no, tobacco=yes] then alive. Coverage:96, accuracy: 1.0\n",
      "If [age>=30:False, hypertension=no, obesity=no, sex=female, imm_supr=no, diabetes=no, renal_chronic=no, cardiovascular=no, asthma=no] then alive. Coverage:6075, accuracy: 0.9959016393442623\n",
      "If [age>=30:False, sex=male, obesity=no, asthma=yes, renal_chronic=no, cardiovascular=no, diabetes=no, copd=no, imm_supr=no, hypertension=no, tobacco=no] then alive. Coverage:369, accuracy: 0.9919354838709677\n",
      "If [age>=30:False, sex=male, obesity=no, tobacco=yes, imm_supr=no, renal_chronic=no, hypertension=no, copd=no, cardiovascular=no, diabetes=no, asthma=no] then alive. Coverage:703, accuracy: 0.9929378531073446\n",
      "If [age>=26:False, sex=male, hypertension=no, obesity=no, diabetes=yes] then alive. Coverage:52, accuracy: 1.0\n",
      "If [age>=29:False, sex=male, hypertension=no, obesity=no, imm_supr=no, cardiovascular=yes] then alive. Coverage:76, accuracy: 1.0\n",
      "If [age>=29:False, sex=male, hypertension=no, obesity=no, imm_supr=no, renal_chronic=no, diabetes=no, copd=no] then alive. Coverage:11627, accuracy: 0.9905435338217754\n",
      "If [age>=34:False, sex=female, asthma=yes, obesity=no, hypertension=no, imm_supr=no, copd=no, diabetes=no, cardiovascular=no, renal_chronic=no, tobacco=no] then alive. Coverage:418, accuracy: 0.990521327014218\n",
      "If [age>=34:False, sex=female, hypertension=no, tobacco=yes, obesity=no, imm_supr=no, copd=no, renal_chronic=no, cardiovascular=no, diabetes=no, asthma=no] then alive. Coverage:336, accuracy: 0.9970326409495549\n",
      "If [age>=34:False, sex=female, hypertension=no, obesity=no, asthma=yes] then alive. Coverage:34, accuracy: 1.0\n",
      "If [age>=34:False, sex=female, hypertension=no, obesity=no, imm_supr=no, diabetes=no, renal_chronic=no, cardiovascular=no, copd=no] then alive. Coverage:6488, accuracy: 0.9925042068227016\n",
      "If [age>=36:False, hypertension=no, obesity=no, sex=female, imm_supr=no, diabetes=no, asthma=yes] then alive. Coverage:107, accuracy: 1.0\n",
      "If [age>=36:False, hypertension=no, obesity=no, sex=female, imm_supr=no, diabetes=no, tobacco=yes] then alive. Coverage:170, accuracy: 0.9941520467836257\n"
     ]
    }
   ],
   "source": [
    "# This may take some time to run (took 12 min on my computer - what about your implementation?)\n",
    "age_column_list = data.columns\n",
    "rules = learn_rules (age_column_list, data, None, 30, 0.9)\n",
    "for rule in rules[:20]:\n",
    "    print(rule)"
   ]
  },
  {
   "cell_type": "markdown",
   "metadata": {},
   "source": [
    "\n",
    "\n",
    "## 4. Discussion\n",
    "\n",
    "### Write here a discussion about the rules that you have learned from both datasets. \n",
    "\n",
    "It took 7 and a half minutes to run on my computer!\n",
    "\n",
    "### Did any of these rules surprise you?\n",
    "\n",
    "The Titantic rules weren't that surprising, it makes sense that women in the upper classes would survive at high rates, and that's what we see in the rules. \n",
    "\n",
    "For the COVID data, we see that the best pridicator of death involves rules like (asthma = no, tobacoo = no, and copd = no) then dead. While that rule had pretty low accuracy, we would expect the opposite conditions to make a person more likely to die. A lot of rules for 'alive' also have some weird traits, like \"tobacco = yes\" or obesity = yes, etc. We likely expect worse health outcomes for smokers and obese people. \n",
    "\n",
    "### Do you have a meaningful logical explanation for these rules?\n",
    "\n",
    "For the Titantic ones, definitely. I remember learning when I was young that women and children were prioritized to get on the lifeboats, and then it makes sense that people physically higher on the decks would be more likely to live. \n",
    "\n",
    "Hmm, not sure if it's the most meaningful, but I have a potential explanation. Suppose that when COVID patients are taken into a hospital, the hospital screens for certain characteristics that would make a person more vulnerable. If a person had weaker lungs going into the hospital, it's possible they received better/more intensive treatment than patients who had stronger lungs or other health characteristics. \n",
    "\n",
    "Another possible explanation is that the universe of people who smoke is pretty small. If there are a large number of non-smokers in the data, then its possible that with a disease with an already pretty low fatality rate just happened to not kill many smokers. \n",
    "\n",
    "### What additional research is needed to understand the meaning of your findings?\n",
    "\n",
    "It would probably have been good to have someone actually in the hospital recording how people were processed and triaged. It would also be nice if the data were a little cleaner, this dataset wasn't designed with COVID in mind, so its possible some people didn't survive and didn't have covid at all. \n",
    "\n",
    "An expert on the Titnatic's history and the way it was structued, laid out, and how the lifeboats were setup, would likely have a more in-depth explanation for the rules, but I think I got the gist of it. "
   ]
  },
  {
   "cell_type": "markdown",
   "metadata": {},
   "source": [
    "## 5. Bucketing Age:\n",
    "\n",
    "I'm curious to see how changing the ages to be bracketed changes our rules. "
   ]
  },
  {
   "cell_type": "code",
   "execution_count": 37,
   "metadata": {},
   "outputs": [
    {
     "data": {
      "text/plain": [
       "Index(['sex', 'age', 'diabetes', 'copd', 'asthma', 'imm_supr', 'hypertension',\n",
       "       'cardiovascular', 'obesity', 'renal_chronic', 'tobacco', 'age_bucket',\n",
       "       'outcome'],\n",
       "      dtype='object')"
      ]
     },
     "execution_count": 37,
     "metadata": {},
     "output_type": "execute_result"
    }
   ],
   "source": [
    "data['age_bucket'] = \"0\"\n",
    "data['age_bucket'] = np.where(data[\"age\"] <= 18, \"<=18\", data['age_bucket'])\n",
    "data['age_bucket'] = np.where((data[\"age\"] <= 30) & (data[\"age\"] > 18), \"<=30\", data['age_bucket'])\n",
    "data['age_bucket'] = np.where((data[\"age\"] <= 45) & (data[\"age\"] > 30), \"<=45\", data['age_bucket'])\n",
    "data['age_bucket'] = np.where((data[\"age\"] <= 60) & (data[\"age\"] > 45), \"<=60\", data['age_bucket'])\n",
    "data['age_bucket'] = np.where((data[\"age\"] > 60), \">60\", data['age_bucket'])\n",
    "\n",
    "temp_cols = data.columns\n",
    "temp_cols = temp_cols.tolist()\n",
    "temp_cols[-1] = temp_cols[-2]\n",
    "temp_cols[-2] = 'age_bucket'\n",
    "# Reorder columns now:\n",
    "data = data.reindex(columns=temp_cols)\n",
    "data.columns"
   ]
  },
  {
   "cell_type": "code",
   "execution_count": 38,
   "metadata": {},
   "outputs": [
    {
     "name": "stdout",
     "output_type": "stream",
     "text": [
      "If [age_bucket=<=30, sex=female, hypertension=no, tobacco=yes, imm_supr=no, diabetes=no, obesity=yes] then alive. Coverage:200, accuracy: 1.0\n",
      "If [age_bucket=<=30, sex=female, hypertension=no, tobacco=yes, imm_supr=no, obesity=no, asthma=yes] then alive. Coverage:35, accuracy: 1.0\n",
      "If [age_bucket=<=30, sex=female, hypertension=no, obesity=no, tobacco=yes, imm_supr=no] then alive. Coverage:668, accuracy: 0.9970149253731343\n",
      "If [age_bucket=<=30, obesity=no, sex=female, asthma=yes, tobacco=no, copd=no, imm_supr=no, cardiovascular=no, renal_chronic=no, diabetes=no, hypertension=no] then alive. Coverage:404, accuracy: 0.9950738916256158\n",
      "If [age_bucket=<=30, obesity=no, sex=female, asthma=yes] then alive. Coverage:37, accuracy: 1.0\n",
      "If [age_bucket=<=30, obesity=no, sex=female, hypertension=no, imm_supr=no, diabetes=no, renal_chronic=no, cardiovascular=no] then alive. Coverage:13007, accuracy: 0.9960943482922346\n",
      "If [age_bucket=<=18, asthma=yes] then alive. Coverage:210, accuracy: 1.0\n",
      "If [age_bucket=<=18, tobacco=yes] then alive. Coverage:49, accuracy: 1.0\n",
      "If [age_bucket=<=18, sex=female, imm_supr=no, obesity=no, hypertension=no, cardiovascular=no] then alive. Coverage:2539, accuracy: 0.9898635477582846\n",
      "If [age_bucket=<=30, sex=male, obesity=no, tobacco=yes, asthma=yes] then alive. Coverage:46, accuracy: 1.0\n",
      "If [age_bucket=<=30, sex=male, obesity=no, tobacco=yes, renal_chronic=no, imm_supr=no, hypertension=no] then alive. Coverage:1570, accuracy: 0.9943001899936669\n",
      "If [age_bucket=<=30, sex=male, obesity=no, renal_chronic=no, diabetes=no, imm_supr=no, hypertension=no, asthma=no, copd=no, cardiovascular=no] then alive. Coverage:12441, accuracy: 0.9913937365527133\n",
      "If [age_bucket=<=18, sex=male, obesity=yes, imm_supr=no] then alive. Coverage:143, accuracy: 0.9930555555555556\n",
      "If [age_bucket=<=18, sex=male, imm_supr=no, cardiovascular=yes] then alive. Coverage:32, accuracy: 1.0\n",
      "If [age_bucket=<=18, sex=male, imm_supr=no, hypertension=no] then alive. Coverage:2458, accuracy: 0.982414068745004\n",
      "If [age_bucket=<=30, asthma=yes, obesity=no, diabetes=no, renal_chronic=no, hypertension=no] then alive. Coverage:302, accuracy: 0.9869281045751634\n",
      "If [age_bucket=<=30, obesity=yes, sex=female, diabetes=no, hypertension=yes] then alive. Coverage:104, accuracy: 1.0\n",
      "If [age_bucket=<=45, sex=female, diabetes=no, obesity=no, tobacco=yes, asthma=yes] then alive. Coverage:43, accuracy: 1.0\n",
      "If [age_bucket=<=45, sex=female, diabetes=no, obesity=no, tobacco=yes, hypertension=no, renal_chronic=no] then alive. Coverage:1112, accuracy: 0.9893238434163701\n",
      "If [age_bucket=<=30, obesity=yes, sex=female, diabetes=no, imm_supr=no, asthma=no] then alive. Coverage:1760, accuracy: 0.9805013927576601\n"
     ]
    }
   ],
   "source": [
    "# We still drop age. \n",
    "data_categorical = data.drop(columns = ['age'])\n",
    "column_list = data_categorical.columns\n",
    "rules = learn_rules(column_list, data_categorical, None, 30, 0.9)\n",
    "\n",
    "for rule in rules[:20]:\n",
    "    print(rule)"
   ]
  },
  {
   "cell_type": "markdown",
   "metadata": {},
   "source": [
    "We see some fairly similar rules to what we had before, with our rules suggesting that younger people (people under 30 or 18) survive at fairly high rates. We have some funny rules, like \"Age <= 18, asthma = yes\" then alive or \"age <= 18, tobacoo = yes\" then alive. Qualitatively, these results aren't that different from treating age as a continuous variable. "
   ]
  },
  {
   "cell_type": "markdown",
   "metadata": {},
   "source": [
    "Copyright &copy; 2022 Marina Barsky. All rights reserved."
   ]
  }
 ],
 "metadata": {
  "kernelspec": {
   "display_name": "Python 3 (ipykernel)",
   "language": "python",
   "name": "python3"
  },
  "language_info": {
   "codemirror_mode": {
    "name": "ipython",
    "version": 3
   },
   "file_extension": ".py",
   "mimetype": "text/x-python",
   "name": "python",
   "nbconvert_exporter": "python",
   "pygments_lexer": "ipython3",
   "version": "3.9.7"
  }
 },
 "nbformat": 4,
 "nbformat_minor": 4
}
